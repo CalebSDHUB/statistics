{
 "cells": [
  {
   "cell_type": "code",
   "execution_count": 6,
   "metadata": {},
   "outputs": [],
   "source": [
    "import numpy as np"
   ]
  },
  {
   "cell_type": "markdown",
   "metadata": {},
   "source": [
    "### Data points"
   ]
  },
  {
   "cell_type": "code",
   "execution_count": 7,
   "metadata": {},
   "outputs": [],
   "source": [
    "# Parameters\n",
    "mean = 0            # Mean of the Gaussian distribution\n",
    "std_dev = 1         # Standard deviation (spread of the noise)\n",
    "size = 1000         # Number of random values to generate\n",
    "\n",
    "# Generate Gaussian random data point\n",
    "x = np.random.normal(loc=mean, scale=std_dev, size=size)"
   ]
  },
  {
   "cell_type": "markdown",
   "metadata": {},
   "source": [
    "### Arithmetic mean\n",
    "### $\\hat{x}$ = $\\frac{1}{n}\\sum_{i=1}^{n} x_i$"
   ]
  },
  {
   "cell_type": "code",
   "execution_count": 12,
   "metadata": {},
   "outputs": [
    {
     "name": "stdout",
     "output_type": "stream",
     "text": [
      "Mean: 0.0026484114311026373\n",
      "Correct: True\n"
     ]
    }
   ],
   "source": [
    "def mean(x):\n",
    "    return np.sum(x) / len(x)\n",
    "    \n",
    "print(\"Mean:\", mean(x))\n",
    "print(\"Correct:\", mean(x) == np.mean(x))"
   ]
  }
 ],
 "metadata": {
  "kernelspec": {
   "display_name": "ml311",
   "language": "python",
   "name": "python3"
  },
  "language_info": {
   "codemirror_mode": {
    "name": "ipython",
    "version": 3
   },
   "file_extension": ".py",
   "mimetype": "text/x-python",
   "name": "python",
   "nbconvert_exporter": "python",
   "pygments_lexer": "ipython3",
   "version": "3.11.10"
  }
 },
 "nbformat": 4,
 "nbformat_minor": 2
}
